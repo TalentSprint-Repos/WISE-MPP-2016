{
 "cells": [
  {
   "cell_type": "markdown",
   "metadata": {},
   "source": [
    "# Survey of Python data types "
   ]
  },
  {
   "cell_type": "markdown",
   "metadata": {},
   "source": [
    "## Focus on differences"
   ]
  },
  {
   "cell_type": "markdown",
   "metadata": {},
   "source": [
    "There are only three numeric data types in python: \n",
    " * integer, \n",
    " * floating point and \n",
    " * complex numbers. "
   ]
  },
  {
   "cell_type": "markdown",
   "metadata": {},
   "source": [
    "There is no distinction between int and long or float and double"
   ]
  },
  {
   "cell_type": "code",
   "execution_count": 3,
   "metadata": {
    "collapsed": false
   },
   "outputs": [
    {
     "name": "stdout",
     "output_type": "stream",
     "text": [
      "17419784962119569043779248369989977223580775105352653414152878945326690251006558562254791902280604182088616356493071447718596844368463068550121834714364312543279834616338561068961804711342418698796650296193251012424547481129434639754121987595366948770535102742528\n"
     ]
    }
   ],
   "source": [
    "# Most interesting: No INT_MAX\n",
    "a = 12\n",
    "b = a * a * a\n",
    "c = b * b * b\n",
    "d = c * c * c \n",
    "e = d * d * d\n",
    "f = e * e * e\n",
    "print(f)"
   ]
  },
  {
   "cell_type": "code",
   "execution_count": 2,
   "metadata": {
    "collapsed": false
   },
   "outputs": [
    {
     "name": "stdout",
     "output_type": "stream",
     "text": [
      "6.333333333333333\n",
      "6\n"
     ]
    }
   ],
   "source": [
    "# There are two divisions\n",
    "a = 19\n",
    "b = 3\n",
    "print(a/b)\n",
    "print(a//b)"
   ]
  },
  {
   "cell_type": "code",
   "execution_count": 4,
   "metadata": {
    "collapsed": false
   },
   "outputs": [
    {
     "name": "stdout",
     "output_type": "stream",
     "text": [
      "17419784962119569043779248369989977223580775105352653414152878945326690251006558562254791902280604182088616356493071447718596844368463068550121834714364312543279834616338561068961804711342418698796650296193251012424547481129434639754121987595366948770535102742528\n"
     ]
    }
   ],
   "source": [
    "# Exponentiation operator is there\n",
    "print(12 ** 243)"
   ]
  },
  {
   "cell_type": "code",
   "execution_count": null,
   "metadata": {
    "collapsed": true
   },
   "outputs": [],
   "source": [
    "#"
   ]
  }
 ],
 "metadata": {
  "kernelspec": {
   "display_name": "Python 3",
   "language": "python",
   "name": "python3"
  },
  "language_info": {
   "codemirror_mode": {
    "name": "ipython",
    "version": 3
   },
   "file_extension": ".py",
   "mimetype": "text/x-python",
   "name": "python",
   "nbconvert_exporter": "python",
   "pygments_lexer": "ipython3",
   "version": "3.5.1"
  }
 },
 "nbformat": 4,
 "nbformat_minor": 0
}
